{
 "cells": [
  {
   "cell_type": "code",
   "execution_count": 14,
   "metadata": {},
   "outputs": [],
   "source": [
    "from sklearn.ensemble import RandomForestClassifier, ExtraTreesClassifier, AdaBoostClassifier\n",
    "import pandas as pd\n",
    "import xgboost\n",
    "import lightgbm as lgb\n",
    "from sklearn.model_selection import GridSearchCV, KFold\n",
    "from sklearn.metrics import accuracy_score\n",
    "import numpy as np\n",
    "from sklearn.model_selection import train_test_split"
   ]
  },
  {
   "cell_type": "code",
   "execution_count": 25,
   "metadata": {},
   "outputs": [],
   "source": [
    "X = pd.read_csv('data/X.csv').to_numpy()\n",
    "y = pd.read_csv('data/y.csv').to_numpy().ravel()\n",
    "X_kaggle = pd.read_csv('data/X_kaggle.csv').to_numpy()"
   ]
  },
  {
   "cell_type": "code",
   "execution_count": 28,
   "metadata": {},
   "outputs": [
    {
     "name": "stdout",
     "output_type": "stream",
     "text": [
      "Fitting 5 folds for each of 2 candidates, totalling 10 fits\n",
      "Best parameters found:  {'eval_metric': 'mlogloss'}\n",
      "Best accuracy score:  0.8958585858585858\n"
     ]
    }
   ],
   "source": [
    "param_grid = {\n",
    "    # 'n_estimators': [100, 200, 300, 400, 500],\n",
    "    # 'max_depth': [3, 4, 5, 6, 7],\n",
    "    # 'learning_rate': [0.01, 0.05, 0.1, 0.2],\n",
    "    # 'subsample': [0.6, 0.7, 0.8, 0.9, 1.0],\n",
    "    # 'colsample_bytree': [0.6, 0.7, 0.8, 0.9, 1.0],\n",
    "    # 'gamma': [0, 0.1, 0.2, 0.3],\n",
    "    # 'reg_alpha': [0, 0.01, 0.1, 1],\n",
    "    # 'reg_lambda': [0, 0.01, 0.1, 1],\n",
    "    'eval_metric': ['mlogloss', 'logloss']\n",
    "}\n",
    "\n",
    "\n",
    "xgb_model = xgboost.XGBClassifier()\n",
    "\n",
    "grid_search = GridSearchCV(estimator=xgb_model, param_grid=param_grid, \n",
    "                           scoring='accuracy', cv=5, verbose=1, n_jobs=-1)\n",
    "\n",
    "grid_search.fit(X, y)\n",
    "\n",
    "# Print the best parameters and best score\n",
    "print(\"Best parameters found: \", grid_search.best_params_)\n",
    "print(\"Best accuracy score: \", grid_search.best_score_)"
   ]
  },
  {
   "cell_type": "code",
   "execution_count": 30,
   "metadata": {},
   "outputs": [],
   "source": [
    "y_pred_xgb = grid_search.best_estimator_.predict(X_kaggle)\n",
    "y_pred_xgb = pd.DataFrame(y_pred_xgb, columns=['predictions'])\n",
    "y_pred_xgb[\"ID\"] = y_pred_xgb.index\n",
    "y_pred_xgb.to_csv('data/y_pred_xgb.csv', index=False)\n"
   ]
  }
 ],
 "metadata": {
  "kernelspec": {
   "display_name": "bachelorarbeit-dPQ4l9Pb-py3.12",
   "language": "python",
   "name": "python3"
  },
  "language_info": {
   "codemirror_mode": {
    "name": "ipython",
    "version": 3
   },
   "file_extension": ".py",
   "mimetype": "text/x-python",
   "name": "python",
   "nbconvert_exporter": "python",
   "pygments_lexer": "ipython3",
   "version": "3.12.0"
  }
 },
 "nbformat": 4,
 "nbformat_minor": 2
}
